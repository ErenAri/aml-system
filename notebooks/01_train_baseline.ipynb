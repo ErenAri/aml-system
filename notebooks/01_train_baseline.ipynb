{
  "cells": [
    {
      "cell_type": "markdown",
      "metadata": {},
      "source": [
        "# AML-X: Train Baseline Tabular Model\n",
        "\n",
        "Train XGBoost classifier on engineered features with SHAP explanations.\n"
      ]
    },
    {
      "cell_type": "code",
      "execution_count": null,
      "metadata": {},
      "outputs": [],
      "source": [
        "import sys\n",
        "sys.path.append('..')\n",
        "\n",
        "import pandas as pd\n",
        "import numpy as np\n",
        "from src.features.tabular import TabularFeatureEngineer\n",
        "from src.models.baseline_tabular import BaselineModel\n",
        "\n",
        "# Load data\n",
        "transactions_df = pd.read_parquet('../data/transactions.parquet')\n",
        "accounts_df = pd.read_parquet('../data/accounts.parquet')\n",
        "\n",
        "# Engineer features\n",
        "engineer = TabularFeatureEngineer()\n",
        "X, y = engineer.fit_transform(transactions_df, accounts_df)\n",
        "\n",
        "# Train model\n",
        "model = BaselineModel()\n",
        "model.train(X, y)\n",
        "model.save('../artifacts/baseline_model.pkl')\n"
      ]
    },
    {
      "cell_type": "markdown",
      "metadata": {},
      "source": [
        "## SHAP Explanations\n",
        "\n",
        "TODO: Add SHAP analysis for model predictions.\n"
      ]
    }
  ],
  "metadata": {
    "language_info": {
      "name": "python"
    }
  },
  "nbformat": 4,
  "nbformat_minor": 2
}

{
  "cells": [
    {
      "cell_type": "markdown",
      "metadata": {},
      "source": [
        "# AML-X: Train Graph Neural Network Model\n",
        "\n",
        "Train GraphSAGE/GAT model on transaction graph with GNNExplainer.\n"
      ]
    },
    {
      "cell_type": "code",
      "execution_count": null,
      "metadata": {},
      "outputs": [],
      "source": [
        "import sys\n",
        "sys.path.append('..')\n",
        "\n",
        "import pandas as pd\n",
        "import torch\n",
        "from src.features.graph import GraphFeatureEngineer\n",
        "from src.models.gnn import GraphSAGEModel, GNNTrainer\n",
        "\n",
        "# Load data\n",
        "transactions_df = pd.read_parquet('../data/transactions.parquet')\n",
        "accounts_df = pd.read_parquet('../data/accounts.parquet')\n",
        "\n",
        "# Build graph\n",
        "engineer = GraphFeatureEngineer()\n",
        "data = engineer.build_pyg_data(transactions_df, accounts_df)\n",
        "\n",
        "# Train model\n",
        "model = GraphSAGEModel(num_features=data.num_node_features, hidden_dim=64)\n",
        "trainer = GNNTrainer(model, lr=0.001)\n",
        "trainer.train(data, epochs=100)\n",
        "trainer.save('../artifacts/gnn_model.pt')\n"
      ]
    },
    {
      "cell_type": "markdown",
      "metadata": {},
      "source": [
        "## GNN Explanations\n",
        "\n",
        "TODO: Add GNNExplainer analysis and subgraph visualizations.\n"
      ]
    }
  ],
  "metadata": {
    "language_info": {
      "name": "python"
    }
  },
  "nbformat": 4,
  "nbformat_minor": 2
}
